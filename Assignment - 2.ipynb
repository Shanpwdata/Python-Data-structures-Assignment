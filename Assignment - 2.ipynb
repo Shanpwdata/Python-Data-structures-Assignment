{
 "cells": [
  {
   "cell_type": "markdown",
   "id": "0c9c99ee-9321-4533-8095-7d023bb23c78",
   "metadata": {},
   "source": [
    "Q1. How do you comment code in Python? What are the different types of comments?"
   ]
  },
  {
   "cell_type": "markdown",
   "id": "b5c11ef6-dd8d-46dd-86d8-f0f52248def9",
   "metadata": {},
   "source": [
    "Ans 1. In python with the use of # single line comment will denote & for multi line comment we use (''' ''') triple qoute inverted comma.\n",
    "examples are given below:"
   ]
  },
  {
   "cell_type": "code",
   "execution_count": 1,
   "id": "3440cf38-1529-4daf-897e-8fc72603f437",
   "metadata": {},
   "outputs": [],
   "source": [
    "#this is a example of comment code."
   ]
  },
  {
   "cell_type": "code",
   "execution_count": 2,
   "id": "39fc72de-bc59-4efe-81dc-234a82d0549c",
   "metadata": {},
   "outputs": [
    {
     "data": {
      "text/plain": [
       "'My name is Shantam Gupta, I am from gorakhpur location and curently i am pursuing Data Science master course from pw skills.'"
      ]
     },
     "execution_count": 2,
     "metadata": {},
     "output_type": "execute_result"
    }
   ],
   "source": [
    "'''My name is Shantam Gupta, I am from gorakhpur location and curently i am pursuing Data Science master course from pw skills.'''"
   ]
  },
  {
   "cell_type": "markdown",
   "id": "a9bd8d32-b5c5-40ca-84ab-b44bf9d66736",
   "metadata": {},
   "source": [
    "#Q2. What are variables in Python? How do you declare and assign values to variables?\n"
   ]
  },
  {
   "cell_type": "markdown",
   "id": "e3c5e4c0-ec44-4084-a668-de78b225eaef",
   "metadata": {},
   "source": [
    "Ans 2. In python Variables are like a containers which are use to stores tha data values, Equal to (“=”) symbol is the operator that is used to assign values to variables and variables will be declare like (int , str, float, boolean, etc)."
   ]
  },
  {
   "cell_type": "code",
   "execution_count": 3,
   "id": "1a0aab94-a761-4568-8752-e6b6e401b23f",
   "metadata": {},
   "outputs": [
    {
     "name": "stdout",
     "output_type": "stream",
     "text": [
      "Shantam Gupta\n"
     ]
    }
   ],
   "source": [
    "#Example:-\n",
    "x = \"Shantam \" # X is the variable that stores that \"Shantam\" name data into it. \n",
    "y = \"Gupta\"\n",
    "z = x + y\n",
    "print (z)"
   ]
  },
  {
   "cell_type": "markdown",
   "id": "6364afb3-d711-42ea-962e-ac682fc26db1",
   "metadata": {},
   "source": [
    "#Q3. How do you convert one data type to another in Python?"
   ]
  },
  {
   "cell_type": "markdown",
   "id": "0fe86616-008f-42a7-8567-61d77afcf9a9",
   "metadata": {},
   "source": [
    "Ans 3. Explained As per the Examples :-"
   ]
  },
  {
   "cell_type": "code",
   "execution_count": 4,
   "id": "13681e08-fcb3-4a31-ac39-a964a8c0228b",
   "metadata": {},
   "outputs": [],
   "source": [
    "x = 145 # int type data type"
   ]
  },
  {
   "cell_type": "code",
   "execution_count": 5,
   "id": "de8f2731-1e46-4b09-86c7-910927264c2a",
   "metadata": {},
   "outputs": [
    {
     "data": {
      "text/plain": [
       "'145'"
      ]
     },
     "execution_count": 5,
     "metadata": {},
     "output_type": "execute_result"
    }
   ],
   "source": [
    "str(x) # Temp coverted into string type data type"
   ]
  },
  {
   "cell_type": "code",
   "execution_count": 30,
   "id": "9f5ad473-990e-44a4-a77c-940df8df1562",
   "metadata": {},
   "outputs": [
    {
     "data": {
      "text/plain": [
       "set"
      ]
     },
     "execution_count": 30,
     "metadata": {},
     "output_type": "execute_result"
    }
   ],
   "source": [
    "# Second Example :- \n",
    "s = {1,2,3,4,5,8,7}\n",
    "type(s)"
   ]
  },
  {
   "cell_type": "code",
   "execution_count": 31,
   "id": "bf994953-56b5-4536-a249-ef4bdbe1fd30",
   "metadata": {},
   "outputs": [],
   "source": [
    "s1 = []"
   ]
  },
  {
   "cell_type": "code",
   "execution_count": 32,
   "id": "a9b0cfcd-b809-4643-b93a-ecee3e58f443",
   "metadata": {},
   "outputs": [
    {
     "data": {
      "text/plain": [
       "[1, 2, 3, 4, 5, 7, 8]"
      ]
     },
     "execution_count": 32,
     "metadata": {},
     "output_type": "execute_result"
    }
   ],
   "source": [
    "list(s) # output is converted into list type data type"
   ]
  },
  {
   "cell_type": "code",
   "execution_count": 12,
   "id": "57f10a8a-c04a-4514-bae2-afd4b67051a6",
   "metadata": {},
   "outputs": [
    {
     "name": "stdout",
     "output_type": "stream",
     "text": [
      "<class 'list'>\n"
     ]
    }
   ],
   "source": [
    "s1.append(s)\n",
    "print (type(s1)) # parmanent change into list type data type"
   ]
  },
  {
   "cell_type": "code",
   "execution_count": 13,
   "id": "d3fbb5fa-e1f1-4d1b-9cf7-05c68eadda36",
   "metadata": {},
   "outputs": [
    {
     "data": {
      "text/plain": [
       "[{1, 2, 3, 4, 5, 7, 8}]"
      ]
     },
     "execution_count": 13,
     "metadata": {},
     "output_type": "execute_result"
    }
   ],
   "source": [
    "s1"
   ]
  },
  {
   "cell_type": "markdown",
   "id": "bb297ee5-ca6a-4849-9a4c-ca3a8b957beb",
   "metadata": {},
   "source": [
    "#Q4. How do you write and execute a Python script from the command line?"
   ]
  },
  {
   "cell_type": "markdown",
   "id": "707f4a16-cd3d-41d9-b312-68fdc3f49216",
   "metadata": {},
   "source": [
    "Ans 4. Python programs is used by plain text files. By convention, those files will use the .py extension. Python code files can be created with any plain text editor and need to create a test scripts like :- print(\"Hello World!\") and save this file in working directory with the name hello.py. To execute Python scripts from command-line just type python in command prompt and then jsut type hello.py extention file to run the scripts."
   ]
  },
  {
   "cell_type": "code",
   "execution_count": 6,
   "id": "92045703-055d-4f8a-95a7-b532b161979e",
   "metadata": {},
   "outputs": [],
   "source": [
    "#Q5. Given a list my_list = [1, 2, 3, 4, 5], write the code to slice the list and obtain the sub-list [2, 3]"
   ]
  },
  {
   "cell_type": "code",
   "execution_count": 34,
   "id": "d42f43ee-de0e-4d51-a3ba-6701c4425f31",
   "metadata": {},
   "outputs": [
    {
     "data": {
      "text/plain": [
       "[2, 3]"
      ]
     },
     "execution_count": 34,
     "metadata": {},
     "output_type": "execute_result"
    }
   ],
   "source": [
    "#Ans 5.\n",
    "my_list = [1, 2, 3, 4, 5]\n",
    "my_list[1:3]"
   ]
  },
  {
   "cell_type": "markdown",
   "id": "db6c8d00-a5f2-44fd-b771-ba4fc0acf70d",
   "metadata": {},
   "source": [
    "#Q6. What is a complex number in mathematics, and how is it represented in Python?"
   ]
  },
  {
   "cell_type": "markdown",
   "id": "3d2f8c09-241d-438a-99e0-7ad41870d4b5",
   "metadata": {},
   "source": [
    "Ans 6. Complex no. consists of two values, the first one is the real part of the complex number, and the second one is the imaginary part of the complex number and We usually denote the imaginary part with j in python."
   ]
  },
  {
   "cell_type": "code",
   "execution_count": 11,
   "id": "42339be6-a301-442f-9e2d-f34c3c93bb1b",
   "metadata": {},
   "outputs": [
    {
     "data": {
      "text/plain": [
       "complex"
      ]
     },
     "execution_count": 11,
     "metadata": {},
     "output_type": "execute_result"
    }
   ],
   "source": [
    "#For example:-\n",
    "c = 6 + 12j\n",
    "type(c)"
   ]
  },
  {
   "cell_type": "code",
   "execution_count": 12,
   "id": "ed86339b-be5f-40cc-a7b0-12597210f792",
   "metadata": {},
   "outputs": [
    {
     "data": {
      "text/plain": [
       "6.0"
      ]
     },
     "execution_count": 12,
     "metadata": {},
     "output_type": "execute_result"
    }
   ],
   "source": [
    "c.real"
   ]
  },
  {
   "cell_type": "code",
   "execution_count": 13,
   "id": "7663fc29-1349-4afc-a29a-af238d4c9383",
   "metadata": {},
   "outputs": [
    {
     "data": {
      "text/plain": [
       "12.0"
      ]
     },
     "execution_count": 13,
     "metadata": {},
     "output_type": "execute_result"
    }
   ],
   "source": [
    "c.imag"
   ]
  },
  {
   "cell_type": "markdown",
   "id": "df0e4566-8cd1-42cb-9413-67955c6119b2",
   "metadata": {},
   "source": [
    "#Q7. What is the correct way to declare a variable named age and assign the value 25 to it?"
   ]
  },
  {
   "cell_type": "code",
   "execution_count": 14,
   "id": "f167f1ed-4970-49a6-a312-39b8e2fbd73b",
   "metadata": {},
   "outputs": [],
   "source": [
    "#Ans 7.\n",
    "age = 25"
   ]
  },
  {
   "cell_type": "code",
   "execution_count": 15,
   "id": "83319657-b197-4fa2-a915-e2f9aa23c5b0",
   "metadata": {},
   "outputs": [
    {
     "data": {
      "text/plain": [
       "25"
      ]
     },
     "execution_count": 15,
     "metadata": {},
     "output_type": "execute_result"
    }
   ],
   "source": [
    "age"
   ]
  },
  {
   "cell_type": "code",
   "execution_count": 20,
   "id": "4a7b7226-ae7a-41dd-9e7e-971e1000f76f",
   "metadata": {},
   "outputs": [
    {
     "name": "stdin",
     "output_type": "stream",
     "text": [
      "Enter your age :-  25\n"
     ]
    },
    {
     "name": "stdout",
     "output_type": "stream",
     "text": [
      " Your age is  25 years\n"
     ]
    }
   ],
   "source": [
    "age = int(input(\"Enter your age :- \")) # method to assigning the value in variables by user input\n",
    "print (\" Your age is \",age,\"years\")"
   ]
  },
  {
   "cell_type": "markdown",
   "id": "c94b3d45-be90-472e-9384-125fec3dd946",
   "metadata": {},
   "source": [
    "Q8. Declare a variable named price and assign the value 9.99 to it. What data type does this variable \n",
    "belong to?"
   ]
  },
  {
   "cell_type": "code",
   "execution_count": 22,
   "id": "c7301fa2-a9e2-4a2e-a9dd-880f5e6cca0c",
   "metadata": {},
   "outputs": [
    {
     "data": {
      "text/plain": [
       "float"
      ]
     },
     "execution_count": 22,
     "metadata": {},
     "output_type": "execute_result"
    }
   ],
   "source": [
    "#Ans 8. \n",
    "price = 9.99\n",
    "type(price) # Float data type variable belong to assigned value into variable named price."
   ]
  },
  {
   "cell_type": "markdown",
   "id": "78a84a83-c125-4a3b-9356-cfd1108cf132",
   "metadata": {},
   "source": [
    "Q9. Create a variable named name and assign your full name to it as a string. How would you print the \n",
    "value of this variable?"
   ]
  },
  {
   "cell_type": "code",
   "execution_count": 25,
   "id": "9c64fc73-a1d1-4268-a784-a8a8152d51b0",
   "metadata": {},
   "outputs": [
    {
     "data": {
      "text/plain": [
       "str"
      ]
     },
     "execution_count": 25,
     "metadata": {},
     "output_type": "execute_result"
    }
   ],
   "source": [
    "#Ans 9. \n",
    "name = \"Shantam\"\n",
    "type(name)"
   ]
  },
  {
   "cell_type": "code",
   "execution_count": 26,
   "id": "07927665-83d9-4845-8e16-d72e0845ba0b",
   "metadata": {},
   "outputs": [
    {
     "name": "stdout",
     "output_type": "stream",
     "text": [
      "Shantam\n"
     ]
    }
   ],
   "source": [
    "print (name)"
   ]
  },
  {
   "cell_type": "markdown",
   "id": "738cbe6a-b0ab-4029-857a-28ede5423f41",
   "metadata": {},
   "source": [
    "Q10. Given the string \"Hello, World!\", extract the substring \"World\"."
   ]
  },
  {
   "cell_type": "code",
   "execution_count": 46,
   "id": "fa839490-5a47-4752-8813-3c9a2daa63dd",
   "metadata": {},
   "outputs": [
    {
     "data": {
      "text/plain": [
       "'World'"
      ]
     },
     "execution_count": 46,
     "metadata": {},
     "output_type": "execute_result"
    }
   ],
   "source": [
    "#Ans 10.\n",
    "x = \"Hello, World!\"\n",
    "x[7:12]"
   ]
  },
  {
   "cell_type": "markdown",
   "id": "90ee3fb8-30e1-4a4b-8b87-9ce78d3266c8",
   "metadata": {},
   "source": [
    "Q11. Create a variable named \"is_student\" and assign it a boolean value indicating whether you are \n",
    "currently a student or not"
   ]
  },
  {
   "cell_type": "code",
   "execution_count": 50,
   "id": "57eeeae3-d6bc-4794-8562-7c4062dc13b1",
   "metadata": {},
   "outputs": [
    {
     "data": {
      "text/plain": [
       "True"
      ]
     },
     "execution_count": 50,
     "metadata": {},
     "output_type": "execute_result"
    }
   ],
   "source": [
    "#Ans 11. \n",
    "is_student = True\n",
    "is_student"
   ]
  },
  {
   "cell_type": "code",
   "execution_count": null,
   "id": "724ac53a-4444-4ded-9961-1ee28875eac0",
   "metadata": {},
   "outputs": [],
   "source": []
  }
 ],
 "metadata": {
  "kernelspec": {
   "display_name": "Python 3 (ipykernel)",
   "language": "python",
   "name": "python3"
  },
  "language_info": {
   "codemirror_mode": {
    "name": "ipython",
    "version": 3
   },
   "file_extension": ".py",
   "mimetype": "text/x-python",
   "name": "python",
   "nbconvert_exporter": "python",
   "pygments_lexer": "ipython3",
   "version": "3.10.8"
  }
 },
 "nbformat": 4,
 "nbformat_minor": 5
}
